{
 "cells": [
  {
   "cell_type": "code",
   "execution_count": 1,
   "metadata": {},
   "outputs": [
    {
     "name": "stdout",
     "output_type": "stream",
     "text": [
      "Ran Exercise 5.1.1\n"
     ]
    }
   ],
   "source": [
    "# exercise 5.1.1\n",
    "\n",
    "import numpy as np\n",
    "\n",
    "# Names of data objects\n",
    "dataobjectNames = [\n",
    "    'Human',\n",
    "    'Python',\n",
    "    'Salmon',\n",
    "    'Whale',\n",
    "    'Frog',\n",
    "    'Komodo dragon',\n",
    "    'Bat',\n",
    "    'Pigeon',\n",
    "    'Cat',\n",
    "    'Leopard shark',\n",
    "    'Turtle',\n",
    "    'Penguin',\n",
    "    'Porcupine',\n",
    "    'Eel',\n",
    "    'Salamander',\n",
    "    ]\n",
    "\n",
    "# Attribute names\n",
    "attributeNames = [\n",
    "    'Body temperature',\n",
    "    'Skin cover',\n",
    "    'Gives birth',\n",
    "    'Aquatic creature',\n",
    "    'Aerial creature',\n",
    "    'Has legs',\n",
    "    'Hibernates'\n",
    "    ]\n",
    "\n",
    "# Attribute values\n",
    "X = np.asarray(np.mat('''\n",
    "    1 1 1 0 0 1 0;\n",
    "    0 2 0 0 0 0 1;\n",
    "    0 2 0 1 0 0 0;\n",
    "    1 1 1 1 0 0 0;\n",
    "    0 0 0 2 0 1 1;\n",
    "    0 2 0 0 0 1 0;\n",
    "    1 1 1 0 1 1 1;\n",
    "    1 3 0 0 1 1 0;\n",
    "    1 4 1 0 0 1 0;\n",
    "    0 2 1 1 0 0 0;\n",
    "    0 2 0 2 0 1 0;\n",
    "    1 3 0 2 0 1 0;\n",
    "    1 5 1 0 0 1 1;\n",
    "    0 2 0 1 0 0 0;\n",
    "    0 0 0 2 0 1 1 '''))\n",
    "\n",
    "# Class indices\n",
    "y = np.asarray(np.mat('3 4 2 3 0 4 3 1 3 2 4 1 3 2 0').T).squeeze()\n",
    "\n",
    "# Class names\n",
    "classNames = ['Amphibian', 'Bird', 'Fish', 'Mammal', 'Reptile']\n",
    "    \n",
    "# Number data objects, attributes, and classes\n",
    "N, M = X.shape\n",
    "C = len(classNames)\n",
    "\n",
    "print('Ran Exercise 5.1.1')"
   ]
  },
  {
   "cell_type": "code",
   "execution_count": 2,
   "metadata": {},
   "outputs": [
    {
     "name": "stdout",
     "output_type": "stream",
     "text": [
      "\n",
      "\n",
      "\n",
      " To view the tree, write \"src\" in the command prompt \n",
      "\n",
      "\n",
      "\n",
      "Ran Exercise 5.1.2\n"
     ]
    }
   ],
   "source": [
    "# exercise 5.1.2\n",
    "import numpy as np\n",
    "from sklearn import tree\n",
    "from platform import system\n",
    "from os import getcwd\n",
    "from toolbox_02450 import windows_graphviz_call\n",
    "import matplotlib.pyplot as plt\n",
    "from matplotlib.image import imread\n",
    "\n",
    "\n",
    "# Fit regression tree classifier, Gini split criterion, no pruning\n",
    "criterion = 'gini'\n",
    "dtc = tree.DecisionTreeClassifier(criterion=criterion, min_samples_split=2)\n",
    "dtc = dtc.fit(X, y)\n",
    "\n",
    "fname = 'tree_' + criterion\n",
    "# Export tree graph .gvz file to parse to graphviz\n",
    "out = tree.export_graphviz(dtc, out_file=fname + '.gvz', feature_names=attributeNames)\n",
    "\n",
    "# Depending on the platform, we handle the file differently, first for Linux\n",
    "# Mac\n",
    "if system() == 'Linux' or system() == 'Darwin':\n",
    "    import graphviz\n",
    "\n",
    "    # Make a graphviz object from the file\n",
    "    src = graphviz.Source.from_file(fname + '.gvz')\n",
    "    print('\\n\\n\\n To view the tree, write \"src\" in the command prompt \\n\\n\\n')\n",
    "\n",
    "# ... and then for Windows:\n",
    "if system() == 'Windows':\n",
    "    # N.B.: you have to update the path_to_graphviz to reflect the position you \n",
    "    # unzipped the software in!\n",
    "    windows_graphviz_call(fname=fname,\n",
    "                          cur_dir=getcwd(),\n",
    "                          path_to_graphviz=r'C:\\Program Files\\Graphviz')\n",
    "    plt.figure(figsize=(12, 12))\n",
    "    plt.imshow(imread(fname + '.png'))\n",
    "    plt.box('off');\n",
    "    plt.axis('off')\n",
    "    plt.show()\n",
    "\n",
    "print('Ran Exercise 5.1.2')"
   ]
  },
  {
   "cell_type": "code",
   "execution_count": 25,
   "metadata": {},
   "outputs": [
    {
     "name": "stdout",
     "output_type": "stream",
     "text": [
      "\n",
      "\n",
      "\n",
      " To view the tree, write \"src\" in the command prompt \n",
      "\n",
      "\n",
      "\n",
      "Ran Exercise 5.1.3\n"
     ]
    }
   ],
   "source": [
    "# exercise 5.1.3\n",
    "import numpy as np\n",
    "from sklearn import tree\n",
    "from platform import system\n",
    "from os import getcwd\n",
    "from toolbox_02450 import windows_graphviz_call\n",
    "import matplotlib.pyplot as plt\n",
    "from matplotlib.image import imread\n",
    "\n",
    "# Fit regression tree classifier, Gini split criterion, no pruning\n",
    "criterion='entropy'\n",
    "dtc = tree.DecisionTreeClassifier(criterion=criterion, min_samples_split=2)\n",
    "dtc = tree.DecisionTreeClassifier(criterion=criterion, min_samples_split=1.0/N)\n",
    "dtc = dtc.fit(X,y)\n",
    "\n",
    "fname='tree_' + criterion\n",
    "# Export tree graph .gvz file to parse to graphviz\n",
    "out = tree.export_graphviz(dtc, out_file=fname + '.gvz', feature_names=attributeNames)\n",
    "\n",
    "# Depending on the platform, we handle the file differently, first for Linux \n",
    "# Mac\n",
    "if system() == 'Linux' or system() == 'Darwin':\n",
    "    import graphviz\n",
    "    # Make a graphviz object from the file\n",
    "    src=graphviz.Source.from_file(fname + '.gvz')\n",
    "    print('\\n\\n\\n To view the tree, write \"src\" in the command prompt \\n\\n\\n')\n",
    "    src.render(view=True)\n",
    "\n",
    "# ... and then for Windows:\n",
    "if system() == 'Windows':\n",
    "    # N.B.: you have to update the path_to_graphviz to reflect the position you \n",
    "    # unzipped the software in!\n",
    "    windows_graphviz_call(fname=fname,\n",
    "                          cur_dir=getcwd(),\n",
    "                          path_to_graphviz=r'C:\\Program Files (x86)\\Graphviz2.38')\n",
    "    plt.figure(figsize=(12,12))\n",
    "    plt.imshow(imread(fname + '.png'))\n",
    "    plt.box('off'); plt.axis('off')\n",
    "    plt.show()\n",
    "\n",
    "print('Ran Exercise 5.1.3')"
   ]
  },
  {
   "cell_type": "code",
   "execution_count": 4,
   "metadata": {},
   "outputs": [
    {
     "name": "stdout",
     "output_type": "stream",
     "text": [
      "\n",
      "New object attributes:\n",
      "{'Body temperature': 0, 'Skin cover': 2, 'Gives birth': 1, 'Aquatic creature': 2, 'Aerial creature': 1, 'Has legs': 1, 'Hibernates': 1}\n",
      "\n",
      "Classification result:\n",
      "Reptile\n",
      "Ran Exercise 5.1.4\n"
     ]
    }
   ],
   "source": [
    "# exercise 5.1.4\n",
    "# requires Tree model from exercise 5.1.2\n",
    "\n",
    "# Define a new data object (a dragon) with the attributes given in the text\n",
    "x = np.array([0, 2, 1, 2, 1, 1, 1]).reshape(1,-1)\n",
    "\n",
    "# Evaluate the classification tree for the new data object\n",
    "x_class = dtc.predict(x)[0]\n",
    "\n",
    "# Print results\n",
    "print('\\nNew object attributes:')\n",
    "print(dict(zip(attributeNames,x[0])))\n",
    "print('\\nClassification result:')\n",
    "print(classNames[x_class])\n",
    "\n",
    "print('Ran Exercise 5.1.4')"
   ]
  },
  {
   "cell_type": "code",
   "execution_count": 5,
   "metadata": {},
   "outputs": [
    {
     "name": "stdout",
     "output_type": "stream",
     "text": [
      "Ran Exercise 5.1.5\n"
     ]
    }
   ],
   "source": [
    "# exercise 5.1.5\n",
    "import numpy as np\n",
    "from scipy.io import loadmat\n",
    "\n",
    "# Load Matlab data file and extract variables of interest\n",
    "mat_data = loadmat('02450_toolbox/Data/wine.mat')\n",
    "X = mat_data['X']\n",
    "y = mat_data['y'].astype(int).squeeze()\n",
    "C = mat_data['C'][0,0]\n",
    "M = mat_data['M'][0,0]\n",
    "N = mat_data['N'][0,0]\n",
    "\n",
    "attributeNames = [i[0][0] for i in mat_data['attributeNames']]\n",
    "classNames = [j[0] for i in mat_data['classNames'] for j in i]\n",
    "\n",
    "\n",
    "# Remove outliers\n",
    "outlier_mask = (X[:,1]>20) | (X[:,7]>10) | (X[:,10]>200)\n",
    "valid_mask = np.logical_not(outlier_mask)\n",
    "X = X[valid_mask,:]\n",
    "y = y[valid_mask]\n",
    "# Remove attribute 12 (Quality score)\n",
    "X = X[:,0:11]\n",
    "attributeNames = attributeNames[0:11]\n",
    "# Update N and M\n",
    "N, M = X.shape\n",
    "\n",
    "print('Ran Exercise 5.1.5')"
   ]
  },
  {
   "cell_type": "code",
   "execution_count": 6,
   "metadata": {},
   "outputs": [
    {
     "name": "stdout",
     "output_type": "stream",
     "text": [
      "\n",
      "\n",
      "\n",
      " To view the tree, write \"src\" in the command prompt \n",
      "\n",
      "\n",
      "\n",
      "Ran Exercise 5.1.6\n"
     ]
    }
   ],
   "source": [
    "# exercise 5.1.6\n",
    "import numpy as np\n",
    "from sklearn import tree\n",
    "from platform import system\n",
    "from os import getcwd\n",
    "from toolbox_02450 import windows_graphviz_call\n",
    "import matplotlib.pyplot as plt\n",
    "from matplotlib.image import imread\n",
    "\n",
    "# requires data from exercise 5.1.5\n",
    "\n",
    "# Fit regression tree classifier, Gini split criterion, no pruning\n",
    "criterion='gini'\n",
    "dtc = tree.DecisionTreeClassifier(criterion=criterion, min_samples_split=100)\n",
    "dtc = dtc.fit(X,y)\n",
    "\n",
    "fname='tree_' + criterion + '_wine_data'\n",
    "# Export tree graph .gvz file to parse to graphviz\n",
    "out = tree.export_graphviz(dtc, out_file=fname + '.gvz', feature_names=attributeNames)\n",
    "\n",
    "# Depending on the platform, we handle the file differently, first for Linux \n",
    "# Mac\n",
    "if system() == 'Linux' or system() == 'Darwin':\n",
    "    import graphviz\n",
    "    # Make a graphviz object from the file\n",
    "    src=graphviz.Source.from_file(fname + '.gvz')\n",
    "    print('\\n\\n\\n To view the tree, write \"src\" in the command prompt \\n\\n\\n')\n",
    "    src.render(view=True)\n",
    "    \n",
    "# ... and then for Windows:\n",
    "if system() == 'Windows':\n",
    "    # N.B.: you have to update the path_to_graphviz to reflect the position you \n",
    "    # unzipped the software in!\n",
    "    path_to_graphviz = r'C:\\Program Files (x86)\\Graphviz2.38' # CHANGE THIS\n",
    "    windows_graphviz_call(fname=fname,\n",
    "                          cur_dir=getcwd(),\n",
    "                          path_to_graphviz=path_to_graphviz)\n",
    "    plt.figure(figsize=(12,12))\n",
    "    plt.imshow(imread(fname + '.png'))\n",
    "    plt.box('off'); plt.axis('off')\n",
    "    plt.show()\n",
    "\n",
    "print('Ran Exercise 5.1.6')"
   ]
  },
  {
   "cell_type": "code",
   "execution_count": 7,
   "metadata": {},
   "outputs": [
    {
     "name": "stdout",
     "output_type": "stream",
     "text": [
      "Ran Exercise 5.1.5\n",
      "\n",
      "New object attributes:\n",
      "Fixed acidity: 6.9\n",
      "Volatile acidity: 1.09\n",
      "Citric acid: 0.06\n",
      "Residual sugar: 2.1\n",
      "Chlorides: 0.0061\n",
      "Free sulfur dioxide: 12.0\n",
      "Total sulfur dioxide: 31.0\n",
      "Density: 0.99\n",
      "pH: 3.5\n",
      "Sulphates: 0.44\n",
      "Alcohol: 12.0\n",
      "\n",
      "Classification result:\n",
      "White\n",
      "Ran Exercise 5.1.7\n"
     ]
    }
   ],
   "source": [
    "# exercise 5.1.7\n",
    "# requires Tree model from exercise 5.1.5\n",
    "# exercise 5.1.5\n",
    "import numpy as np\n",
    "from scipy.io import loadmat\n",
    "\n",
    "# Load Matlab data file and extract variables of interest\n",
    "mat_data = loadmat('02450_toolbox/Data/wine.mat')\n",
    "X = mat_data['X']\n",
    "y = mat_data['y'].astype(int).squeeze()\n",
    "C = mat_data['C'][0,0]\n",
    "M = mat_data['M'][0,0]\n",
    "N = mat_data['N'][0,0]\n",
    "\n",
    "attributeNames = [i[0][0] for i in mat_data['attributeNames']]\n",
    "classNames = [j[0] for i in mat_data['classNames'] for j in i]\n",
    "\n",
    "\n",
    "# Remove outliers\n",
    "outlier_mask = (X[:,1]>20) | (X[:,7]>10) | (X[:,10]>200)\n",
    "valid_mask = np.logical_not(outlier_mask)\n",
    "X = X[valid_mask,:]\n",
    "y = y[valid_mask]\n",
    "# Remove attribute 12 (Quality score)\n",
    "X = X[:,0:11]\n",
    "attributeNames = attributeNames[0:11]\n",
    "# Update N and M\n",
    "N, M = X.shape\n",
    "\n",
    "print('Ran Exercise 5.1.5')\n",
    "\n",
    "# Define a new data object (new type of wine) with the attributes given in the text\n",
    "x = np.array([6.9, 1.09, .06, 2.1, .0061, 12, 31, .99, 3.5, .44, 12]).reshape(1,-1)\n",
    "\n",
    "# Evaluate the classification tree for the new data object\n",
    "x_class = dtc.predict(x)[0]\n",
    "\n",
    "# Print results\n",
    "print('\\nNew object attributes:')\n",
    "for i in range(len(attributeNames)):\n",
    "    print('{0}: {1}'.format(attributeNames[i],x[0][i]))\n",
    "print('\\nClassification result:')\n",
    "print(classNames[x_class])\n",
    "\n",
    "print('Ran Exercise 5.1.7')"
   ]
  },
  {
   "cell_type": "code",
   "execution_count": 8,
   "metadata": {},
   "outputs": [
    {
     "data": {
      "image/png": "[encoded data removed]",
      "text/plain": [
       "<Figure size 432x288 with 1 Axes>"
      ]
     },
     "metadata": {
      "needs_background": "light"
     },
     "output_type": "display_data"
    },
    {
     "name": "stdout",
     "output_type": "stream",
     "text": [
      "Ran Exercise 5.2.1\n"
     ]
    }
   ],
   "source": [
    "# exercise 5.2.1\n",
    "\n",
    "from matplotlib.pyplot import figure, plot, xlabel, ylabel, title, show\n",
    "import numpy as np\n",
    "\n",
    "# Number of data objects\n",
    "N = 100\n",
    "\n",
    "# Attribute values\n",
    "X = np.array(range(N))\n",
    "\n",
    "# Noise\n",
    "eps_mean, eps_std = 0, 0.1\n",
    "eps = np.array(eps_std*np.random.randn(N) + eps_mean)\n",
    "\n",
    "# Model parameters\n",
    "w0 = -0.5\n",
    "w1 = 0.01\n",
    "\n",
    "# Outputs\n",
    "y = w0 + w1*X + eps\n",
    "\n",
    "# Make a scatter plot\n",
    "figure()\n",
    "plot(X,y,'o')\n",
    "xlabel('X'); ylabel('y')\n",
    "title('Illustration of a linear relation with noise')\n",
    "\n",
    "show()\n",
    "\n",
    "print('Ran Exercise 5.2.1')"
   ]
  },
  {
   "cell_type": "code",
   "execution_count": 9,
   "metadata": {},
   "outputs": [
    {
     "data": {
      "image/png": "[encoded data removed]",
      "text/plain": [
       "<Figure size 432x288 with 1 Axes>"
      ]
     },
     "metadata": {
      "needs_background": "light"
     },
     "output_type": "display_data"
    },
    {
     "name": "stdout",
     "output_type": "stream",
     "text": [
      "Ran Exercise 5.2.2\n"
     ]
    }
   ],
   "source": [
    "# exercise 5.2.2\n",
    "\n",
    "from matplotlib.pyplot import figure, plot, xlabel, ylabel, legend, show\n",
    "import sklearn.linear_model as lm\n",
    "import numpy as np\n",
    "\n",
    "# Use dataset as in the previous exercise\n",
    "N = 100\n",
    "X = np.array(range(N)).reshape(-1,1)\n",
    "eps_mean, eps_std = 0, 0.1\n",
    "eps = np.array(eps_std*np.random.randn(N) + eps_mean).reshape(-1,1)\n",
    "w0 = -0.5\n",
    "w1 = 0.01\n",
    "y = w0 + w1*X + eps\n",
    "y_true = y - eps\n",
    "\n",
    "# Fit ordinary least squares regression model\n",
    "model = lm.LinearRegression(fit_intercept=True)\n",
    "model = model.fit(X,y)\n",
    "# Compute model output:\n",
    "y_est = model.predict(X)\n",
    "# Or equivalently:\n",
    "#y_est = model.intercept_ + X @ model.coef_\n",
    "\n",
    "\n",
    "# Plot original data and the model output\n",
    "f = figure()\n",
    "\n",
    "plot(X,y,'.')\n",
    "plot(X,y_true,'-')\n",
    "plot(X,y_est,'-')\n",
    "xlabel('X'); ylabel('y')\n",
    "legend(['Training data', 'Data generator', 'Regression fit (model)'])\n",
    "\n",
    "show()\n",
    "\n",
    "print('Ran Exercise 5.2.2')"
   ]
  },
  {
   "cell_type": "code",
   "execution_count": 10,
   "metadata": {},
   "outputs": [
    {
     "data": {
      "image/png": "[encoded data removed]",
      "text/plain": [
       "<Figure size 432x288 with 1 Axes>"
      ]
     },
     "metadata": {
      "needs_background": "light"
     },
     "output_type": "display_data"
    },
    {
     "name": "stdout",
     "output_type": "stream",
     "text": [
      "Ran Exercise 5.2.3\n"
     ]
    }
   ],
   "source": [
    "# exercise 5.2.3\n",
    "\n",
    "from matplotlib.pyplot import figure, plot, xlabel, ylabel, legend, show, ylim\n",
    "import numpy as np\n",
    "import sklearn.linear_model as lm\n",
    "\n",
    "# Parameters\n",
    "Kd = 5  # no of terms for data generator\n",
    "Km = 3  # no of terms for regression model\n",
    "N = 50  # no of data objects to train a model\n",
    "Xe =  np.linspace(-2,2,1000).reshape(-1,1) # X values to visualize true data and model\n",
    "eps_mean, eps_std = 0, 0.5          # noise parameters\n",
    "\n",
    "# Generate dataset (with noise)\n",
    "X = np.linspace(-2,2,N).reshape(-1,1)\n",
    "Xd = np.power(X, range(1,Kd+1))\n",
    "eps = (eps_std*np.random.randn(N) + eps_mean)\n",
    "w = -np.power(-.9, range(1,Kd+2))\n",
    "y = w[0] + Xd @ w[1:] + eps \n",
    "\n",
    "\n",
    "# True data generator (assuming no noise)\n",
    "Xde = np.power(Xe, range(1,Kd+1))\n",
    "y_true = w[0] + Xde @ w[1:]\n",
    "\n",
    "\n",
    "\n",
    "# Fit ordinary least squares regression model\n",
    "Xm = np.power(X, range(1,Km+1))\n",
    "model = lm.LinearRegression()\n",
    "model = model.fit(Xm,y)\n",
    "\n",
    "# Predict values\n",
    "Xme = np.power(Xe, range(1,Km+1))\n",
    "y_est = model.predict(Xme)\n",
    "\n",
    "# Plot original data and the model output\n",
    "f = figure()\n",
    "plot(X,y,'.')\n",
    "plot(Xe,y_true,'-')\n",
    "plot(Xe,y_est,'-')\n",
    "xlabel('X'); ylabel('y'); ylim(-2,8)\n",
    "legend(['Training data', 'Data generator K={0}'.format(Kd), 'Regression fit (model) K={0}'.format(Km)])\n",
    "\n",
    "show()\n",
    "\n",
    "print('Ran Exercise 5.2.3')"
   ]
  },
  {
   "cell_type": "code",
   "execution_count": 11,
   "metadata": {},
   "outputs": [
    {
     "name": "stdout",
     "output_type": "stream",
     "text": [
      "Ran Exercise 5.1.5\n"
     ]
    },
    {
     "data": {
      "image/png": "[encoded data removed]",
      "text/plain": [
       "<Figure size 432x288 with 2 Axes>"
      ]
     },
     "metadata": {
      "needs_background": "light"
     },
     "output_type": "display_data"
    },
    {
     "name": "stdout",
     "output_type": "stream",
     "text": [
      "Ran Exercise 5.2.4\n"
     ]
    }
   ],
   "source": [
    "# exercise 5.2.4\n",
    "from matplotlib.pylab import figure, subplot, plot, xlabel, ylabel, hist, show\n",
    "import sklearn.linear_model as lm\n",
    "\n",
    "# requires wine data from exercise 5.1.5\n",
    "# exercise 5.1.5\n",
    "import numpy as np\n",
    "from scipy.io import loadmat\n",
    "\n",
    "# Load Matlab data file and extract variables of interest\n",
    "mat_data = loadmat('02450_toolbox/Data/wine.mat')\n",
    "X = mat_data['X']\n",
    "y = mat_data['y'].astype(int).squeeze()\n",
    "C = mat_data['C'][0,0]\n",
    "M = mat_data['M'][0,0]\n",
    "N = mat_data['N'][0,0]\n",
    "\n",
    "attributeNames = [i[0][0] for i in mat_data['attributeNames']]\n",
    "classNames = [j[0] for i in mat_data['classNames'] for j in i]\n",
    "\n",
    "\n",
    "# Remove outliers\n",
    "outlier_mask = (X[:,1]>20) | (X[:,7]>10) | (X[:,10]>200)\n",
    "valid_mask = np.logical_not(outlier_mask)\n",
    "X = X[valid_mask,:]\n",
    "y = y[valid_mask]\n",
    "# Remove attribute 12 (Quality score)\n",
    "X = X[:,0:11]\n",
    "attributeNames = attributeNames[0:11]\n",
    "# Update N and M\n",
    "N, M = X.shape\n",
    "\n",
    "print('Ran Exercise 5.1.5')\n",
    "\n",
    "# Split dataset into features and target vector\n",
    "alcohol_idx = attributeNames.index('Alcohol')\n",
    "y = X[:,alcohol_idx]\n",
    "\n",
    "X_cols = list(range(0,alcohol_idx)) + list(range(alcohol_idx+1,len(attributeNames)))\n",
    "X = X[:,X_cols]\n",
    "\n",
    "# Fit ordinary least squares regression model\n",
    "model = lm.LinearRegression()\n",
    "model.fit(X,y)\n",
    "\n",
    "# Predict alcohol content\n",
    "y_est = model.predict(X)\n",
    "residual = y_est-y\n",
    "\n",
    "# Display scatter plot\n",
    "figure()\n",
    "subplot(2,1,1)\n",
    "plot(y, y_est, '.')\n",
    "xlabel('Alcohol content (true)'); ylabel('Alcohol content (estimated)')\n",
    "subplot(2,1,2)\n",
    "hist(residual,40)\n",
    "\n",
    "show()\n",
    "\n",
    "print('Ran Exercise 5.2.4')"
   ]
  },
  {
   "cell_type": "code",
   "execution_count": 12,
   "metadata": {},
   "outputs": [
    {
     "name": "stdout",
     "output_type": "stream",
     "text": [
      "Ran Exercise 5.1.5\n"
     ]
    },
    {
     "data": {
      "image/png": "[encoded data removed]",
      "text/plain": [
       "<Figure size 864x576 with 5 Axes>"
      ]
     },
     "metadata": {
      "needs_background": "light"
     },
     "output_type": "display_data"
    },
    {
     "name": "stdout",
     "output_type": "stream",
     "text": [
      "Ran Exercise 5.2.5\n"
     ]
    }
   ],
   "source": [
    "# exercise 5.2.5\n",
    "from matplotlib.pylab import figure, plot, subplot, xlabel, ylabel, hist, show\n",
    "import sklearn.linear_model as lm\n",
    "\n",
    "# requires data from exercise 5.1.4\n",
    "# exercise 5.1.5\n",
    "import numpy as np\n",
    "from scipy.io import loadmat\n",
    "\n",
    "# Load Matlab data file and extract variables of interest\n",
    "mat_data = loadmat('02450_toolbox/Data/wine.mat')\n",
    "X = mat_data['X']\n",
    "y = mat_data['y'].astype(int).squeeze()\n",
    "C = mat_data['C'][0,0]\n",
    "M = mat_data['M'][0,0]\n",
    "N = mat_data['N'][0,0]\n",
    "\n",
    "attributeNames = [i[0][0] for i in mat_data['attributeNames']]\n",
    "classNames = [j[0] for i in mat_data['classNames'] for j in i]\n",
    "\n",
    "\n",
    "# Remove outliers\n",
    "outlier_mask = (X[:,1]>20) | (X[:,7]>10) | (X[:,10]>200)\n",
    "valid_mask = np.logical_not(outlier_mask)\n",
    "X = X[valid_mask,:]\n",
    "y = y[valid_mask]\n",
    "# Remove attribute 12 (Quality score)\n",
    "X = X[:,0:11]\n",
    "attributeNames = attributeNames[0:11]\n",
    "# Update N and M\n",
    "N, M = X.shape\n",
    "\n",
    "print('Ran Exercise 5.1.5')\n",
    "\n",
    "\n",
    "# Split dataset into features and target vector\n",
    "alcohol_idx = attributeNames.index('Alcohol')\n",
    "y = X[:,alcohol_idx]\n",
    "\n",
    "X_cols = list(range(0,alcohol_idx)) + list(range(alcohol_idx+1,len(attributeNames)))\n",
    "X = X[:,X_cols]\n",
    "\n",
    "# Additional nonlinear attributes\n",
    "fa_idx = attributeNames.index('Fixed acidity')\n",
    "va_idx = attributeNames.index('Volatile acidity')\n",
    "Xfa2 = np.power(X[:,fa_idx],2).reshape(-1,1)\n",
    "Xva2 = np.power(X[:,va_idx],2).reshape(-1,1)\n",
    "Xfava = (X[:,fa_idx]*X[:,va_idx]).reshape(-1,1)\n",
    "X = np.asarray(np.bmat('X, Xfa2, Xva2, Xfava'))\n",
    "\n",
    "# Fit ordinary least squares regression model\n",
    "model = lm.LinearRegression()\n",
    "model.fit(X,y)\n",
    "\n",
    "# Predict alcohol content\n",
    "y_est = model.predict(X)\n",
    "residual = y_est-y\n",
    "\n",
    "# Display plots\n",
    "figure(figsize=(12,8))\n",
    "\n",
    "subplot(2,1,1)\n",
    "plot(y, y_est, '.g')\n",
    "xlabel('Alcohol content (true)'); ylabel('Alcohol content (estimated)')\n",
    "\n",
    "subplot(4,1,3)\n",
    "hist(residual,40)\n",
    "\n",
    "subplot(4,3,10)\n",
    "plot(Xfa2, residual, '.r')\n",
    "xlabel('Fixed Acidity ^2'); ylabel('Residual')\n",
    "\n",
    "subplot(4,3,11)\n",
    "plot(Xva2, residual, '.r')\n",
    "xlabel('Volatile Acidity ^2'); ylabel('Residual')\n",
    "\n",
    "subplot(4,3,12)\n",
    "plot(Xfava, residual, '.r')\n",
    "xlabel('Fixed*Volatile Acidity'); ylabel('Residual')\n",
    "\n",
    "show()\n",
    "\n",
    "print('Ran Exercise 5.2.5')"
   ]
  },
  {
   "cell_type": "code",
   "execution_count": 13,
   "metadata": {},
   "outputs": [
    {
     "name": "stdout",
     "output_type": "stream",
     "text": [
      "Ran Exercise 5.1.5\n",
      "\n",
      "Probability of given sample being a white wine: 0.9990\n",
      "\n",
      "Overall misclassification rate: 0.020\n"
     ]
    },
    {
     "name": "stderr",
     "output_type": "stream",
     "text": [
      "/home/mik/.local/lib/python3.9/site-packages/sklearn/linear_model/_logistic.py:814: ConvergenceWarning: lbfgs failed to converge (status=1):\n",
      "STOP: TOTAL NO. of ITERATIONS REACHED LIMIT.\n",
      "\n",
      "Increase the number of iterations (max_iter) or scale the data as shown in:\n",
      "    https://scikit-learn.org/stable/modules/preprocessing.html\n",
      "Please also refer to the documentation for alternative solver options:\n",
      "    https://scikit-learn.org/stable/modules/linear_model.html#logistic-regression\n",
      "  n_iter_i = _check_optimize_result(\n"
     ]
    },
    {
     "data": {
      "image/png": "[encoded data removed]",
      "text/plain": [
       "<Figure size 432x288 with 1 Axes>"
      ]
     },
     "metadata": {
      "needs_background": "light"
     },
     "output_type": "display_data"
    },
    {
     "name": "stdout",
     "output_type": "stream",
     "text": [
      "Ran Exercise 5.2.6\n"
     ]
    }
   ],
   "source": [
    "# exercise 5.2.6\n",
    "from matplotlib.pylab import figure, plot, xlabel, ylabel, legend, ylim, show\n",
    "import sklearn.linear_model as lm\n",
    "\n",
    "# requires data from exercise 5.1.4\n",
    "# exercise 5.1.5\n",
    "import numpy as np\n",
    "from scipy.io import loadmat\n",
    "\n",
    "# Load Matlab data file and extract variables of interest\n",
    "mat_data = loadmat('02450_toolbox/Data/wine.mat')\n",
    "X = mat_data['X']\n",
    "y = mat_data['y'].astype(int).squeeze()\n",
    "C = mat_data['C'][0,0]\n",
    "M = mat_data['M'][0,0]\n",
    "N = mat_data['N'][0,0]\n",
    "\n",
    "attributeNames = [i[0][0] for i in mat_data['attributeNames']]\n",
    "classNames = [j[0] for i in mat_data['classNames'] for j in i]\n",
    "\n",
    "\n",
    "# Remove outliers\n",
    "outlier_mask = (X[:,1]>20) | (X[:,7]>10) | (X[:,10]>200)\n",
    "valid_mask = np.logical_not(outlier_mask)\n",
    "X = X[valid_mask,:]\n",
    "y = y[valid_mask]\n",
    "# Remove attribute 12 (Quality score)\n",
    "X = X[:,0:11]\n",
    "attributeNames = attributeNames[0:11]\n",
    "# Update N and M\n",
    "N, M = X.shape\n",
    "\n",
    "print('Ran Exercise 5.1.5')\n",
    "\n",
    "# Fit logistic regression model\n",
    "\n",
    "model = lm.LogisticRegression()\n",
    "model = model.fit(X,y)\n",
    "\n",
    "# Classify wine as White/Red (0/1) and assess probabilities\n",
    "y_est = model.predict(X)\n",
    "y_est_white_prob = model.predict_proba(X)[:, 0] \n",
    "\n",
    "# Define a new data object (new type of wine), as in exercise 5.1.7\n",
    "x = np.array([6.9, 1.09, .06, 2.1, .0061, 12, 31, .99, 3.5, .44, 12]).reshape(1,-1)\n",
    "# Evaluate the probability of x being a white wine (class=0) \n",
    "x_class = model.predict_proba(x)[0,0]\n",
    "\n",
    "# Evaluate classifier's misclassification rate over entire training data\n",
    "misclass_rate = np.sum(y_est != y) / float(len(y_est))\n",
    "\n",
    "# Display classification results\n",
    "print('\\nProbability of given sample being a white wine: {0:.4f}'.format(x_class))\n",
    "print('\\nOverall misclassification rate: {0:.3f}'.format(misclass_rate))\n",
    "\n",
    "f = figure();\n",
    "class0_ids = np.nonzero(y==0)[0].tolist()\n",
    "plot(class0_ids, y_est_white_prob[class0_ids], '.y')\n",
    "class1_ids = np.nonzero(y==1)[0].tolist()\n",
    "plot(class1_ids, y_est_white_prob[class1_ids], '.r')\n",
    "xlabel('Data object (wine sample)'); ylabel('Predicted prob. of class White');\n",
    "legend(['White', 'Red'])\n",
    "ylim(-0.01,1.5)\n",
    "\n",
    "show()\n",
    "\n",
    "print('Ran Exercise 5.2.6')"
   ]
  },
  {
   "cell_type": "code",
   "execution_count": null,
   "metadata": {},
   "outputs": [],
   "source": []
  }
 ],
 "metadata": {
  "interpreter": {
   "hash": "916dbcbb3f70747c44a77c7bcd40155683ae19c65e1c03b4aa3499c5328201f1"
  },
  "kernelspec": {
   "display_name": "Python 3.9.5 64-bit",
   "name": "python3"
  },
  "language_info": {
   "codemirror_mode": {
    "name": "ipython",
    "version": 3
   },
   "file_extension": ".py",
   "mimetype": "text/x-python",
   "name": "python",
   "nbconvert_exporter": "python",
   "pygments_lexer": "ipython3",
   "version": "3.9.5"
  },
  "orig_nbformat": 4
 },
 "nbformat": 4,
 "nbformat_minor": 2
}
